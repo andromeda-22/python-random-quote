{
  "nbformat": 4,
  "nbformat_minor": 0,
  "metadata": {
    "kernelspec": {
      "display_name": "Python 3",
      "language": "python",
      "name": "python3"
    },
    "language_info": {
      "codemirror_mode": {
        "name": "ipython",
        "version": 3
      },
      "file_extension": ".py",
      "mimetype": "text/x-python",
      "name": "python",
      "nbconvert_exporter": "python",
      "pygments_lexer": "ipython3",
      "version": "3.8.8"
    },
    "colab": {
      "name": "machine_learning_classification.ipynb",
      "provenance": [],
      "toc_visible": true,
      "include_colab_link": true
    }
  },
  "cells": [
    {
      "cell_type": "markdown",
      "metadata": {
        "id": "view-in-github",
        "colab_type": "text"
      },
      "source": [
        "<a href=\"https://colab.research.google.com/github/andromeda-22/python-random-quote/blob/master/machine_learning_classification.ipynb\" target=\"_parent\"><img src=\"https://colab.research.google.com/assets/colab-badge.svg\" alt=\"Open In Colab\"/></a>"
      ]
    },
    {
      "cell_type": "code",
      "metadata": {
        "id": "XFZt4-5BjHX-"
      },
      "source": [
        "# Import Required Python Packages\n",
        "\n",
        "# Scientific and Data Manipulation Libraries\n",
        "import numpy as np\n",
        "import pandas as pd\n",
        "\n",
        "# Data Viz & Regular Expression Libraries\n",
        "import seaborn as sns\n",
        "import matplotlib.pyplot as plt\n",
        "%matplotlib inline \n",
        "sns.set(color_codes=True)"
      ],
      "execution_count": null,
      "outputs": []
    },
    {
      "cell_type": "code",
      "metadata": {
        "id": "cnvMaCBLjHYE",
        "outputId": "0e758013-2526-4e99-be48-00249728bff3"
      },
      "source": [
        "# Loading data from train.csv file\n",
        "train_df = pd.read_csv('/content/train_s3TEQDk.csv')\n",
        "train_df.head(5)"
      ],
      "execution_count": null,
      "outputs": [
        {
          "data": {
            "text/html": [
              "<div>\n",
              "<style scoped>\n",
              "    .dataframe tbody tr th:only-of-type {\n",
              "        vertical-align: middle;\n",
              "    }\n",
              "\n",
              "    .dataframe tbody tr th {\n",
              "        vertical-align: top;\n",
              "    }\n",
              "\n",
              "    .dataframe thead th {\n",
              "        text-align: right;\n",
              "    }\n",
              "</style>\n",
              "<table border=\"1\" class=\"dataframe\">\n",
              "  <thead>\n",
              "    <tr style=\"text-align: right;\">\n",
              "      <th></th>\n",
              "      <th>ID</th>\n",
              "      <th>Gender</th>\n",
              "      <th>Age</th>\n",
              "      <th>Region_Code</th>\n",
              "      <th>Occupation</th>\n",
              "      <th>Channel_Code</th>\n",
              "      <th>Vintage</th>\n",
              "      <th>Credit_Product</th>\n",
              "      <th>Avg_Account_Balance</th>\n",
              "      <th>Is_Active</th>\n",
              "      <th>Is_Lead</th>\n",
              "    </tr>\n",
              "  </thead>\n",
              "  <tbody>\n",
              "    <tr>\n",
              "      <th>0</th>\n",
              "      <td>NNVBBKZB</td>\n",
              "      <td>Female</td>\n",
              "      <td>73</td>\n",
              "      <td>RG268</td>\n",
              "      <td>Other</td>\n",
              "      <td>X3</td>\n",
              "      <td>43</td>\n",
              "      <td>No</td>\n",
              "      <td>1045696</td>\n",
              "      <td>No</td>\n",
              "      <td>0</td>\n",
              "    </tr>\n",
              "    <tr>\n",
              "      <th>1</th>\n",
              "      <td>IDD62UNG</td>\n",
              "      <td>Female</td>\n",
              "      <td>30</td>\n",
              "      <td>RG277</td>\n",
              "      <td>Salaried</td>\n",
              "      <td>X1</td>\n",
              "      <td>32</td>\n",
              "      <td>No</td>\n",
              "      <td>581988</td>\n",
              "      <td>No</td>\n",
              "      <td>0</td>\n",
              "    </tr>\n",
              "    <tr>\n",
              "      <th>2</th>\n",
              "      <td>HD3DSEMC</td>\n",
              "      <td>Female</td>\n",
              "      <td>56</td>\n",
              "      <td>RG268</td>\n",
              "      <td>Self_Employed</td>\n",
              "      <td>X3</td>\n",
              "      <td>26</td>\n",
              "      <td>No</td>\n",
              "      <td>1484315</td>\n",
              "      <td>Yes</td>\n",
              "      <td>0</td>\n",
              "    </tr>\n",
              "    <tr>\n",
              "      <th>3</th>\n",
              "      <td>BF3NC7KV</td>\n",
              "      <td>Male</td>\n",
              "      <td>34</td>\n",
              "      <td>RG270</td>\n",
              "      <td>Salaried</td>\n",
              "      <td>X1</td>\n",
              "      <td>19</td>\n",
              "      <td>No</td>\n",
              "      <td>470454</td>\n",
              "      <td>No</td>\n",
              "      <td>0</td>\n",
              "    </tr>\n",
              "    <tr>\n",
              "      <th>4</th>\n",
              "      <td>TEASRWXV</td>\n",
              "      <td>Female</td>\n",
              "      <td>30</td>\n",
              "      <td>RG282</td>\n",
              "      <td>Salaried</td>\n",
              "      <td>X1</td>\n",
              "      <td>33</td>\n",
              "      <td>No</td>\n",
              "      <td>886787</td>\n",
              "      <td>No</td>\n",
              "      <td>0</td>\n",
              "    </tr>\n",
              "  </tbody>\n",
              "</table>\n",
              "</div>"
            ],
            "text/plain": [
              "         ID  Gender  Age Region_Code     Occupation Channel_Code  Vintage  \\\n",
              "0  NNVBBKZB  Female   73       RG268          Other           X3       43   \n",
              "1  IDD62UNG  Female   30       RG277       Salaried           X1       32   \n",
              "2  HD3DSEMC  Female   56       RG268  Self_Employed           X3       26   \n",
              "3  BF3NC7KV    Male   34       RG270       Salaried           X1       19   \n",
              "4  TEASRWXV  Female   30       RG282       Salaried           X1       33   \n",
              "\n",
              "  Credit_Product  Avg_Account_Balance Is_Active  Is_Lead  \n",
              "0             No              1045696        No        0  \n",
              "1             No               581988        No        0  \n",
              "2             No              1484315       Yes        0  \n",
              "3             No               470454        No        0  \n",
              "4             No               886787        No        0  "
            ]
          },
          "execution_count": 2,
          "metadata": {},
          "output_type": "execute_result"
        }
      ]
    },
    {
      "cell_type": "code",
      "metadata": {
        "id": "bTci-mNzjHYF",
        "outputId": "48a4cfe0-002e-4837-d6f9-340ae07ada28"
      },
      "source": [
        "# Loading data from test.csv file\n",
        "test_df = pd.read_csv('/content/test_mSzZ8RL.csv')\n",
        "test_df.head(5)"
      ],
      "execution_count": null,
      "outputs": [
        {
          "data": {
            "text/html": [
              "<div>\n",
              "<style scoped>\n",
              "    .dataframe tbody tr th:only-of-type {\n",
              "        vertical-align: middle;\n",
              "    }\n",
              "\n",
              "    .dataframe tbody tr th {\n",
              "        vertical-align: top;\n",
              "    }\n",
              "\n",
              "    .dataframe thead th {\n",
              "        text-align: right;\n",
              "    }\n",
              "</style>\n",
              "<table border=\"1\" class=\"dataframe\">\n",
              "  <thead>\n",
              "    <tr style=\"text-align: right;\">\n",
              "      <th></th>\n",
              "      <th>ID</th>\n",
              "      <th>Gender</th>\n",
              "      <th>Age</th>\n",
              "      <th>Region_Code</th>\n",
              "      <th>Occupation</th>\n",
              "      <th>Channel_Code</th>\n",
              "      <th>Vintage</th>\n",
              "      <th>Credit_Product</th>\n",
              "      <th>Avg_Account_Balance</th>\n",
              "      <th>Is_Active</th>\n",
              "    </tr>\n",
              "  </thead>\n",
              "  <tbody>\n",
              "    <tr>\n",
              "      <th>0</th>\n",
              "      <td>VBENBARO</td>\n",
              "      <td>Male</td>\n",
              "      <td>29</td>\n",
              "      <td>RG254</td>\n",
              "      <td>Other</td>\n",
              "      <td>X1</td>\n",
              "      <td>25</td>\n",
              "      <td>Yes</td>\n",
              "      <td>742366</td>\n",
              "      <td>No</td>\n",
              "    </tr>\n",
              "    <tr>\n",
              "      <th>1</th>\n",
              "      <td>CCMEWNKY</td>\n",
              "      <td>Male</td>\n",
              "      <td>43</td>\n",
              "      <td>RG268</td>\n",
              "      <td>Other</td>\n",
              "      <td>X2</td>\n",
              "      <td>49</td>\n",
              "      <td>NaN</td>\n",
              "      <td>925537</td>\n",
              "      <td>No</td>\n",
              "    </tr>\n",
              "    <tr>\n",
              "      <th>2</th>\n",
              "      <td>VK3KGA9M</td>\n",
              "      <td>Male</td>\n",
              "      <td>31</td>\n",
              "      <td>RG270</td>\n",
              "      <td>Salaried</td>\n",
              "      <td>X1</td>\n",
              "      <td>14</td>\n",
              "      <td>No</td>\n",
              "      <td>215949</td>\n",
              "      <td>No</td>\n",
              "    </tr>\n",
              "    <tr>\n",
              "      <th>3</th>\n",
              "      <td>TT8RPZVC</td>\n",
              "      <td>Male</td>\n",
              "      <td>29</td>\n",
              "      <td>RG272</td>\n",
              "      <td>Other</td>\n",
              "      <td>X1</td>\n",
              "      <td>33</td>\n",
              "      <td>No</td>\n",
              "      <td>868070</td>\n",
              "      <td>No</td>\n",
              "    </tr>\n",
              "    <tr>\n",
              "      <th>4</th>\n",
              "      <td>SHQZEYTZ</td>\n",
              "      <td>Female</td>\n",
              "      <td>29</td>\n",
              "      <td>RG270</td>\n",
              "      <td>Other</td>\n",
              "      <td>X1</td>\n",
              "      <td>19</td>\n",
              "      <td>No</td>\n",
              "      <td>657087</td>\n",
              "      <td>No</td>\n",
              "    </tr>\n",
              "  </tbody>\n",
              "</table>\n",
              "</div>"
            ],
            "text/plain": [
              "         ID  Gender  Age Region_Code Occupation Channel_Code  Vintage  \\\n",
              "0  VBENBARO    Male   29       RG254      Other           X1       25   \n",
              "1  CCMEWNKY    Male   43       RG268      Other           X2       49   \n",
              "2  VK3KGA9M    Male   31       RG270   Salaried           X1       14   \n",
              "3  TT8RPZVC    Male   29       RG272      Other           X1       33   \n",
              "4  SHQZEYTZ  Female   29       RG270      Other           X1       19   \n",
              "\n",
              "  Credit_Product  Avg_Account_Balance Is_Active  \n",
              "0            Yes               742366        No  \n",
              "1            NaN               925537        No  \n",
              "2             No               215949        No  \n",
              "3             No               868070        No  \n",
              "4             No               657087        No  "
            ]
          },
          "execution_count": 3,
          "metadata": {},
          "output_type": "execute_result"
        }
      ]
    },
    {
      "cell_type": "code",
      "metadata": {
        "id": "wRoM9iR7jHYH",
        "outputId": "3d9aab8b-6a17-40f3-a870-1b33683783cb"
      },
      "source": [
        "# info() is used to check the Information about the data and the datatypes of each respective attribute.\n",
        "\n",
        "train_df.info()"
      ],
      "execution_count": null,
      "outputs": [
        {
          "name": "stdout",
          "output_type": "stream",
          "text": [
            "<class 'pandas.core.frame.DataFrame'>\n",
            "RangeIndex: 245725 entries, 0 to 245724\n",
            "Data columns (total 11 columns):\n",
            " #   Column               Non-Null Count   Dtype \n",
            "---  ------               --------------   ----- \n",
            " 0   ID                   245725 non-null  object\n",
            " 1   Gender               245725 non-null  object\n",
            " 2   Age                  245725 non-null  int64 \n",
            " 3   Region_Code          245725 non-null  object\n",
            " 4   Occupation           245725 non-null  object\n",
            " 5   Channel_Code         245725 non-null  object\n",
            " 6   Vintage              245725 non-null  int64 \n",
            " 7   Credit_Product       216400 non-null  object\n",
            " 8   Avg_Account_Balance  245725 non-null  int64 \n",
            " 9   Is_Active            245725 non-null  object\n",
            " 10  Is_Lead              245725 non-null  int64 \n",
            "dtypes: int64(4), object(7)\n",
            "memory usage: 20.6+ MB\n"
          ]
        }
      ]
    },
    {
      "cell_type": "code",
      "metadata": {
        "id": "0iwp0eQRjHYH",
        "outputId": "7ce2db03-02bc-4cc4-ed2d-1e917cfd77f0"
      },
      "source": [
        "# describe() The described method will help to see how data has been spread for numerical values. \n",
        "# We can clearly see the minimum value, mean values, different percentile values, and maximum values.\n",
        "\n",
        "train_df.describe()"
      ],
      "execution_count": null,
      "outputs": [
        {
          "data": {
            "text/html": [
              "<div>\n",
              "<style scoped>\n",
              "    .dataframe tbody tr th:only-of-type {\n",
              "        vertical-align: middle;\n",
              "    }\n",
              "\n",
              "    .dataframe tbody tr th {\n",
              "        vertical-align: top;\n",
              "    }\n",
              "\n",
              "    .dataframe thead th {\n",
              "        text-align: right;\n",
              "    }\n",
              "</style>\n",
              "<table border=\"1\" class=\"dataframe\">\n",
              "  <thead>\n",
              "    <tr style=\"text-align: right;\">\n",
              "      <th></th>\n",
              "      <th>Age</th>\n",
              "      <th>Vintage</th>\n",
              "      <th>Avg_Account_Balance</th>\n",
              "      <th>Is_Lead</th>\n",
              "    </tr>\n",
              "  </thead>\n",
              "  <tbody>\n",
              "    <tr>\n",
              "      <th>count</th>\n",
              "      <td>245725.000000</td>\n",
              "      <td>245725.000000</td>\n",
              "      <td>2.457250e+05</td>\n",
              "      <td>245725.000000</td>\n",
              "    </tr>\n",
              "    <tr>\n",
              "      <th>mean</th>\n",
              "      <td>43.856307</td>\n",
              "      <td>46.959141</td>\n",
              "      <td>1.128403e+06</td>\n",
              "      <td>0.237208</td>\n",
              "    </tr>\n",
              "    <tr>\n",
              "      <th>std</th>\n",
              "      <td>14.828672</td>\n",
              "      <td>32.353136</td>\n",
              "      <td>8.529364e+05</td>\n",
              "      <td>0.425372</td>\n",
              "    </tr>\n",
              "    <tr>\n",
              "      <th>min</th>\n",
              "      <td>23.000000</td>\n",
              "      <td>7.000000</td>\n",
              "      <td>2.079000e+04</td>\n",
              "      <td>0.000000</td>\n",
              "    </tr>\n",
              "    <tr>\n",
              "      <th>25%</th>\n",
              "      <td>30.000000</td>\n",
              "      <td>20.000000</td>\n",
              "      <td>6.043100e+05</td>\n",
              "      <td>0.000000</td>\n",
              "    </tr>\n",
              "    <tr>\n",
              "      <th>50%</th>\n",
              "      <td>43.000000</td>\n",
              "      <td>32.000000</td>\n",
              "      <td>8.946010e+05</td>\n",
              "      <td>0.000000</td>\n",
              "    </tr>\n",
              "    <tr>\n",
              "      <th>75%</th>\n",
              "      <td>54.000000</td>\n",
              "      <td>73.000000</td>\n",
              "      <td>1.366666e+06</td>\n",
              "      <td>0.000000</td>\n",
              "    </tr>\n",
              "    <tr>\n",
              "      <th>max</th>\n",
              "      <td>85.000000</td>\n",
              "      <td>135.000000</td>\n",
              "      <td>1.035201e+07</td>\n",
              "      <td>1.000000</td>\n",
              "    </tr>\n",
              "  </tbody>\n",
              "</table>\n",
              "</div>"
            ],
            "text/plain": [
              "                 Age        Vintage  Avg_Account_Balance        Is_Lead\n",
              "count  245725.000000  245725.000000         2.457250e+05  245725.000000\n",
              "mean       43.856307      46.959141         1.128403e+06       0.237208\n",
              "std        14.828672      32.353136         8.529364e+05       0.425372\n",
              "min        23.000000       7.000000         2.079000e+04       0.000000\n",
              "25%        30.000000      20.000000         6.043100e+05       0.000000\n",
              "50%        43.000000      32.000000         8.946010e+05       0.000000\n",
              "75%        54.000000      73.000000         1.366666e+06       0.000000\n",
              "max        85.000000     135.000000         1.035201e+07       1.000000"
            ]
          },
          "execution_count": 6,
          "metadata": {},
          "output_type": "execute_result"
        }
      ]
    },
    {
      "cell_type": "markdown",
      "metadata": {
        "id": "KZcXf4NXjHYI"
      },
      "source": [
        "# Handling missing value"
      ]
    },
    {
      "cell_type": "code",
      "metadata": {
        "id": "Xf05EL1ujHYJ",
        "outputId": "e86a38ed-f5f3-4895-b874-af0eb642b816"
      },
      "source": [
        "# isnull() function detect missing values in the dataframe. \n",
        "# It return a boolean value if the value are NA. \n",
        "# Missing values gets mapped to True and non-missing value gets mapped to False.\n",
        "\n",
        "#isnull().sum() help to knowing number of missing values for each variable\n",
        "\n",
        "train_df.isnull().sum()"
      ],
      "execution_count": null,
      "outputs": [
        {
          "data": {
            "text/plain": [
              "ID                         0\n",
              "Gender                     0\n",
              "Age                        0\n",
              "Region_Code                0\n",
              "Occupation                 0\n",
              "Channel_Code               0\n",
              "Vintage                    0\n",
              "Credit_Product         29325\n",
              "Avg_Account_Balance        0\n",
              "Is_Active                  0\n",
              "Is_Lead                    0\n",
              "dtype: int64"
            ]
          },
          "execution_count": 7,
          "metadata": {},
          "output_type": "execute_result"
        }
      ]
    },
    {
      "cell_type": "code",
      "metadata": {
        "id": "iH2sd6EHjHYK",
        "outputId": "585b8563-b446-427c-cd19-7b79adc4e3c6"
      },
      "source": [
        "test_df.isnull().sum()"
      ],
      "execution_count": null,
      "outputs": [
        {
          "data": {
            "text/plain": [
              "ID                         0\n",
              "Gender                     0\n",
              "Age                        0\n",
              "Region_Code                0\n",
              "Occupation                 0\n",
              "Channel_Code               0\n",
              "Vintage                    0\n",
              "Credit_Product         12522\n",
              "Avg_Account_Balance        0\n",
              "Is_Active                  0\n",
              "dtype: int64"
            ]
          },
          "execution_count": 8,
          "metadata": {},
          "output_type": "execute_result"
        }
      ]
    },
    {
      "cell_type": "markdown",
      "metadata": {
        "id": "VoSVY4RajHYL"
      },
      "source": [
        "Note: in pandas we have some other function also.\n",
        "\n",
        "- notnull()       \n",
        "     checking non-missing values\n",
        "- isnull().values.any()         \n",
        "     only want to know if there are any missing values"
      ]
    },
    {
      "cell_type": "code",
      "metadata": {
        "id": "5jNPpzZ3jHYM"
      },
      "source": [
        "# fillna() function helps to fill in missing with a string: \"None\" and save the data to particular dataframe.\n",
        "train_df = train_df.fillna(\"None\")\n",
        "test_df = test_df.fillna(\"None\")"
      ],
      "execution_count": null,
      "outputs": []
    },
    {
      "cell_type": "markdown",
      "metadata": {
        "id": "_eu6WNvtjHYM"
      },
      "source": [
        "To manage the missing values we have some other technique also, we can choose based on our requirement or based on our data. Techinques are listed below.\n",
        "\n",
        "Drop the missing values: In this case, we drop the missing values from those variables. In case there are very few missing values you can drop those values.\n",
        "\n",
        "Impute with mean value: For the numerical column, you can replace the missing values with mean values. Before replacing with mean value, it is advisable to check that the variable shouldn’t have extreme values .i.e. outliers.\n",
        "\n",
        "Impute with median value: For the numerical column, you can also replace the missing values with median values. In case you have extreme values such as outliers it is advisable to use the median approach.\n",
        "\n",
        "Impute with mode value: For the categorical column, you can replace the missing values with mode values i.e the frequent ones."
      ]
    },
    {
      "cell_type": "markdown",
      "metadata": {
        "id": "gAgP7BPsjHYN"
      },
      "source": [
        "# Handling Duplicate records"
      ]
    },
    {
      "cell_type": "code",
      "metadata": {
        "id": "kbTVnwl0jHYN",
        "outputId": "5a11d7fe-5166-4a43-cada-a4bd7938a0e1"
      },
      "source": [
        "# Check for Duplicated data\n",
        "# train_df.duplicated()\n",
        "\n",
        "dup_data = train_df.duplicated()\n",
        "dup_data.sum()"
      ],
      "execution_count": null,
      "outputs": [
        {
          "data": {
            "text/plain": [
              "0"
            ]
          },
          "execution_count": 10,
          "metadata": {},
          "output_type": "execute_result"
        }
      ]
    },
    {
      "cell_type": "markdown",
      "metadata": {
        "id": "CW-FOkdJjHYO"
      },
      "source": [
        "##### If have duplicated data then we can remove the duplicated data using drop_duplicates() method"
      ]
    },
    {
      "cell_type": "markdown",
      "metadata": {
        "id": "LfBZ55skjHYO"
      },
      "source": [
        "# Handling Outlier"
      ]
    },
    {
      "cell_type": "code",
      "metadata": {
        "scrolled": true,
        "id": "W4Av_wk_jHYO",
        "outputId": "24bd2961-40d2-4b42-eff8-f2638df41774"
      },
      "source": [
        "# Showing the outliers using A box and whiskers chart (boxplot)\n",
        "\n",
        "# sns.boxplot(data=train_df, orient=\"v\", palette=\"Set2\")\n",
        "# plt.show\n",
        "\n",
        "train_df.boxplot(column=[\"Avg_Account_Balance\"])\n",
        "plt.show"
      ],
      "execution_count": null,
      "outputs": [
        {
          "data": {
            "text/plain": [
              "<function matplotlib.pyplot.show(close=None, block=None)>"
            ]
          },
          "execution_count": 11,
          "metadata": {},
          "output_type": "execute_result"
        },
        {
          "data": {
            "image/png": "[encoded data removed]",
            "text/plain": [
              "<Figure size 432x288 with 1 Axes>"
            ]
          },
          "metadata": {},
          "output_type": "display_data"
        }
      ]
    },
    {
      "cell_type": "markdown",
      "metadata": {
        "id": "qF8NYixNjHYP"
      },
      "source": [
        "Looking at the box plot, In the variable, \"Avg_Account_Balance\" has no outlier."
      ]
    },
    {
      "cell_type": "code",
      "metadata": {
        "id": "81MuWmxUjHYP",
        "outputId": "7db6ab07-6b57-4b7b-e245-df43dc1a0dd2"
      },
      "source": [
        "# Checking unique values from \"train\" data\n",
        "\n",
        "for i in train_df:\n",
        "    print(f'{i} unique values {train_df[i].unique()}')"
      ],
      "execution_count": null,
      "outputs": [
        {
          "name": "stdout",
          "output_type": "stream",
          "text": [
            "ID unique values ['NNVBBKZB' 'IDD62UNG' 'HD3DSEMC' ... 'GEHAUCWT' 'GE7V8SAH' 'BOCZSWLJ']\n",
            "Gender unique values ['Female' 'Male']\n",
            "Age unique values [73 30 56 34 62 48 40 55 53 27 31 79 33 46 59 65 37 44 32 50 70 25 52 26\n",
            " 67 29 41 49 63 61 64 60 76 57 36 28 58 43 35 71 82 45 42 54 47 78 51 68\n",
            " 83 39 84 24 38 74 81 69 75 85 66 80 72 77 23]\n",
            "Region_Code unique values ['RG268' 'RG277' 'RG270' 'RG282' 'RG261' 'RG265' 'RG283' 'RG254' 'RG269'\n",
            " 'RG257' 'RG279' 'RG280' 'RG252' 'RG284' 'RG259' 'RG281' 'RG258' 'RG266'\n",
            " 'RG260' 'RG274' 'RG256' 'RG275' 'RG273' 'RG267' 'RG272' 'RG251' 'RG262'\n",
            " 'RG264' 'RG278' 'RG276' 'RG263' 'RG250' 'RG255' 'RG253' 'RG271']\n",
            "Occupation unique values ['Other' 'Salaried' 'Self_Employed' 'Entrepreneur']\n",
            "Channel_Code unique values ['X3' 'X1' 'X2' 'X4']\n",
            "Vintage unique values [ 43  32  26  19  33  20  13  38  49 123  14  31  57  69  97  15  63  21\n",
            "  99  56  87  62  55 103 104  93  61  91  27  39  50  45  25 117  80  81\n",
            "  73  67 109  92 122  75  79 121 111 116  85 115  86  37  74 110  44   9\n",
            "  68  51  98 105 127 129 133   8   7 128 135 134]\n",
            "Credit_Product unique values ['No' 'None' 'Yes']\n",
            "Avg_Account_Balance unique values [1045696  581988 1484315 ...  368949 1925586 1129276]\n",
            "Is_Active unique values ['No' 'Yes']\n",
            "Is_Lead unique values [0 1]\n"
          ]
        }
      ]
    },
    {
      "cell_type": "code",
      "metadata": {
        "id": "WXc-ZjtkjHYP"
      },
      "source": [
        "Train = train_df.drop([\"Is_Lead\"], axis=1)\n",
        "Test = test_df\n",
        "Train_Is_Lead = train_df[\"Is_Lead\"]"
      ],
      "execution_count": null,
      "outputs": []
    },
    {
      "cell_type": "markdown",
      "metadata": {
        "id": "Kn4FUIBIjHYQ"
      },
      "source": [
        "# Numerical data distribution"
      ]
    },
    {
      "cell_type": "code",
      "metadata": {
        "id": "n3pqpWOUjHYQ",
        "outputId": "8bf4b603-b6be-4873-8147-4992523a33b2"
      },
      "source": [
        "# To do so lets first list all the types of our data from our dataset\n",
        "\n",
        "list(set(Train.dtypes.tolist()))"
      ],
      "execution_count": null,
      "outputs": [
        {
          "data": {
            "text/plain": [
              "[dtype('O'), dtype('int64')]"
            ]
          },
          "execution_count": 14,
          "metadata": {},
          "output_type": "execute_result"
        }
      ]
    },
    {
      "cell_type": "code",
      "metadata": {
        "id": "nS1dp0d5jHYQ",
        "outputId": "5b09ed39-b79c-4c5b-83d0-8e99ed61c1be"
      },
      "source": [
        "list(set(Test.dtypes.tolist()))"
      ],
      "execution_count": null,
      "outputs": [
        {
          "data": {
            "text/plain": [
              "[dtype('O'), dtype('int64')]"
            ]
          },
          "execution_count": 15,
          "metadata": {},
          "output_type": "execute_result"
        }
      ]
    },
    {
      "cell_type": "code",
      "metadata": {
        "id": "RoUEWCNHjHYR"
      },
      "source": [
        "Train_categorical = Train.select_dtypes(exclude = ['int64'])\n",
        "Test_categorical = Test.select_dtypes(exclude = ['int64'])\n",
        "\n",
        "Train_numerical = Train.select_dtypes(include = ['int64'])\n",
        "col_names_Train = Train_numerical.columns.values.tolist()\n",
        "\n",
        "Test_numerical = Test.select_dtypes(include = ['int64'])\n",
        "col_names_Test = Test_numerical.columns.values.tolist()"
      ],
      "execution_count": null,
      "outputs": []
    },
    {
      "cell_type": "code",
      "metadata": {
        "id": "45J7zVpdjHYR",
        "outputId": "47ff4085-92ea-41ef-c376-dcbc3b0561cc"
      },
      "source": [
        "Train_numerical.head()"
      ],
      "execution_count": null,
      "outputs": [
        {
          "data": {
            "text/html": [
              "<div>\n",
              "<style scoped>\n",
              "    .dataframe tbody tr th:only-of-type {\n",
              "        vertical-align: middle;\n",
              "    }\n",
              "\n",
              "    .dataframe tbody tr th {\n",
              "        vertical-align: top;\n",
              "    }\n",
              "\n",
              "    .dataframe thead th {\n",
              "        text-align: right;\n",
              "    }\n",
              "</style>\n",
              "<table border=\"1\" class=\"dataframe\">\n",
              "  <thead>\n",
              "    <tr style=\"text-align: right;\">\n",
              "      <th></th>\n",
              "      <th>Age</th>\n",
              "      <th>Vintage</th>\n",
              "      <th>Avg_Account_Balance</th>\n",
              "    </tr>\n",
              "  </thead>\n",
              "  <tbody>\n",
              "    <tr>\n",
              "      <th>0</th>\n",
              "      <td>73</td>\n",
              "      <td>43</td>\n",
              "      <td>1045696</td>\n",
              "    </tr>\n",
              "    <tr>\n",
              "      <th>1</th>\n",
              "      <td>30</td>\n",
              "      <td>32</td>\n",
              "      <td>581988</td>\n",
              "    </tr>\n",
              "    <tr>\n",
              "      <th>2</th>\n",
              "      <td>56</td>\n",
              "      <td>26</td>\n",
              "      <td>1484315</td>\n",
              "    </tr>\n",
              "    <tr>\n",
              "      <th>3</th>\n",
              "      <td>34</td>\n",
              "      <td>19</td>\n",
              "      <td>470454</td>\n",
              "    </tr>\n",
              "    <tr>\n",
              "      <th>4</th>\n",
              "      <td>30</td>\n",
              "      <td>33</td>\n",
              "      <td>886787</td>\n",
              "    </tr>\n",
              "  </tbody>\n",
              "</table>\n",
              "</div>"
            ],
            "text/plain": [
              "   Age  Vintage  Avg_Account_Balance\n",
              "0   73       43              1045696\n",
              "1   30       32               581988\n",
              "2   56       26              1484315\n",
              "3   34       19               470454\n",
              "4   30       33               886787"
            ]
          },
          "execution_count": 17,
          "metadata": {},
          "output_type": "execute_result"
        }
      ]
    },
    {
      "cell_type": "code",
      "metadata": {
        "id": "3Mw200n9jHYR",
        "outputId": "eaf34c21-397b-40fa-b1e9-3295c246adff"
      },
      "source": [
        "# Checking skewness of the dataset\n",
        "\n",
        "sns.set_style('whitegrid')\n",
        "sns.kdeplot(Train_numerical['Avg_Account_Balance'], bw=0.5)\n",
        "plt.show()"
      ],
      "execution_count": null,
      "outputs": [
        {
          "name": "stderr",
          "output_type": "stream",
          "text": [
            "D:\\Programfiles\\lib\\site-packages\\seaborn\\distributions.py:1657: FutureWarning: The `bw` parameter is deprecated in favor of `bw_method` and `bw_adjust`. Using 0.5 for `bw_method`, but please see the docs for the new parameters and update your code.\n",
            "  warnings.warn(msg, FutureWarning)\n"
          ]
        },
        {
          "data": {
            "image/png": "[encoded data removed]",
            "text/plain": [
              "<Figure size 432x288 with 1 Axes>"
            ]
          },
          "metadata": {},
          "output_type": "display_data"
        }
      ]
    },
    {
      "cell_type": "code",
      "metadata": {
        "id": "4s0UmNVvjHYS",
        "outputId": "7367f9eb-627a-4275-cc0a-378e367a5ffc"
      },
      "source": [
        "sns.set_style('whitegrid')\n",
        "sns.kdeplot(Test_numerical['Avg_Account_Balance'], bw=0.5)\n",
        "plt.show()"
      ],
      "execution_count": null,
      "outputs": [
        {
          "name": "stderr",
          "output_type": "stream",
          "text": [
            "D:\\Programfiles\\lib\\site-packages\\seaborn\\distributions.py:1657: FutureWarning: The `bw` parameter is deprecated in favor of `bw_method` and `bw_adjust`. Using 0.5 for `bw_method`, but please see the docs for the new parameters and update your code.\n",
            "  warnings.warn(msg, FutureWarning)\n"
          ]
        },
        {
          "data": {
            "image/png": "[encoded data removed]",
            "text/plain": [
              "<Figure size 432x288 with 1 Axes>"
            ]
          },
          "metadata": {},
          "output_type": "display_data"
        }
      ]
    },
    {
      "cell_type": "code",
      "metadata": {
        "id": "r-YTt7M5jHYS",
        "outputId": "f95c0017-1432-4144-ed2e-1e6bde5e505a"
      },
      "source": [
        "Train_numerical['Avg_Account_Balance'] = np.log(Train_numerical['Avg_Account_Balance'])\n",
        "sns.kdeplot(Train_numerical['Avg_Account_Balance'])\n",
        "plt.show()"
      ],
      "execution_count": null,
      "outputs": [
        {
          "name": "stderr",
          "output_type": "stream",
          "text": [
            "<ipython-input-20-a8d5ac8c82f1>:1: SettingWithCopyWarning: \n",
            "A value is trying to be set on a copy of a slice from a DataFrame.\n",
            "Try using .loc[row_indexer,col_indexer] = value instead\n",
            "\n",
            "See the caveats in the documentation: https://pandas.pydata.org/pandas-docs/stable/user_guide/indexing.html#returning-a-view-versus-a-copy\n",
            "  Train_numerical['Avg_Account_Balance'] = np.log(Train_numerical['Avg_Account_Balance'])\n"
          ]
        },
        {
          "data": {
            "image/png": "[encoded data removed]",
            "text/plain": [
              "<Figure size 432x288 with 1 Axes>"
            ]
          },
          "metadata": {},
          "output_type": "display_data"
        }
      ]
    },
    {
      "cell_type": "code",
      "metadata": {
        "id": "EN_KcNnNjHYS",
        "outputId": "0e6d7c62-5cdc-4e25-c444-2f91b67ea7f7"
      },
      "source": [
        "Test_numerical['Avg_Account_Balance'] = np.log(Test_numerical['Avg_Account_Balance'])\n",
        "sns.kdeplot(Test_numerical['Avg_Account_Balance'])\n",
        "plt.show"
      ],
      "execution_count": null,
      "outputs": [
        {
          "name": "stderr",
          "output_type": "stream",
          "text": [
            "<ipython-input-21-b69143d9550d>:1: SettingWithCopyWarning: \n",
            "A value is trying to be set on a copy of a slice from a DataFrame.\n",
            "Try using .loc[row_indexer,col_indexer] = value instead\n",
            "\n",
            "See the caveats in the documentation: https://pandas.pydata.org/pandas-docs/stable/user_guide/indexing.html#returning-a-view-versus-a-copy\n",
            "  Test_numerical['Avg_Account_Balance'] = np.log(Test_numerical['Avg_Account_Balance'])\n"
          ]
        },
        {
          "data": {
            "text/plain": [
              "<function matplotlib.pyplot.show(close=None, block=None)>"
            ]
          },
          "execution_count": 21,
          "metadata": {},
          "output_type": "execute_result"
        },
        {
          "data": {
            "image/png": "[encoded data removed]",
            "text/plain": [
              "<Figure size 432x288 with 1 Axes>"
            ]
          },
          "metadata": {},
          "output_type": "display_data"
        }
      ]
    },
    {
      "cell_type": "code",
      "metadata": {
        "id": "JdGsF8hcjHYS",
        "outputId": "97eeb896-3eb2-4bcd-d3d2-2dbda5576a46"
      },
      "source": [
        "Train_numerical.hist(figsize=(15, 10), bins=50, xlabelsize=8, ylabelsize=8);"
      ],
      "execution_count": null,
      "outputs": [
        {
          "data": {
            "image/png": "[encoded data removed]",
            "text/plain": [
              "<Figure size 1080x720 with 4 Axes>"
            ]
          },
          "metadata": {},
          "output_type": "display_data"
        }
      ]
    },
    {
      "cell_type": "markdown",
      "metadata": {
        "id": "R04YTjKNjHYT"
      },
      "source": [
        "# Normalizing and Scaling"
      ]
    },
    {
      "cell_type": "code",
      "metadata": {
        "id": "jcMoV5NBjHYT"
      },
      "source": [
        "# Using standard Scaler - data scaling.\n",
        "\n",
        "from sklearn.preprocessing import LabelEncoder\n",
        "from sklearn.preprocessing import StandardScaler\n",
        "\n",
        "Train_categorical = Train_categorical.apply(LabelEncoder().fit_transform)\n",
        "Test_categorical = Test_categorical.apply(LabelEncoder().fit_transform)\n",
        "\n",
        "scaler = StandardScaler()\n",
        "\n",
        "Train_numerical = scaler.fit_transform(Train_numerical.values)\n",
        "Train_numerical = pd.DataFrame(Train_numerical, columns = col_names_Train)\n",
        "\n",
        "Test_numerical = scaler.fit_transform(Test_numerical.values)\n",
        "Test_numerical = pd.DataFrame(Test_numerical, columns = col_names_Test)"
      ],
      "execution_count": null,
      "outputs": []
    },
    {
      "cell_type": "code",
      "metadata": {
        "id": "ACKnIciljHYT"
      },
      "source": [
        "train_new_df = pd.concat([Train_categorical,pd.DataFrame(Train_numerical),Train_Is_Lead],axis=1)\n",
        "test_new_df = pd.concat([Test_categorical,pd.DataFrame(Test_numerical)],axis=1)"
      ],
      "execution_count": null,
      "outputs": []
    },
    {
      "cell_type": "code",
      "metadata": {
        "id": "KYhzdtavjHYT",
        "outputId": "d2981763-1b03-4506-a8ef-e647560aa15c"
      },
      "source": [
        "corr_train_df = train_new_df.corr()\n",
        "plt.figure(figsize=(13,5)) \n",
        "sns.color_palette(\"magma\", as_cmap=True)\n",
        "ax = sns.heatmap(corr_train_df, annot=True, cmap=\"magma\")\n",
        "plt.show"
      ],
      "execution_count": null,
      "outputs": [
        {
          "data": {
            "text/plain": [
              "<function matplotlib.pyplot.show(close=None, block=None)>"
            ]
          },
          "execution_count": 25,
          "metadata": {},
          "output_type": "execute_result"
        },
        {
          "data": {
            "image/png": "[encoded data removed]",
            "text/plain": [
              "<Figure size 936x360 with 2 Axes>"
            ]
          },
          "metadata": {},
          "output_type": "display_data"
        }
      ]
    },
    {
      "cell_type": "code",
      "metadata": {
        "id": "ISv3guZ4jHYT",
        "outputId": "748f0708-3a95-4bcf-a4d4-d8a910089af4"
      },
      "source": [
        "train_new_df['Avg_Account_Balance'].agg(['skew', 'kurtosis']).transpose()"
      ],
      "execution_count": null,
      "outputs": [
        {
          "data": {
            "text/plain": [
              "skew        0.235178\n",
              "kurtosis    0.306033\n",
              "Name: Avg_Account_Balance, dtype: float64"
            ]
          },
          "execution_count": 26,
          "metadata": {},
          "output_type": "execute_result"
        }
      ]
    },
    {
      "cell_type": "markdown",
      "metadata": {
        "id": "O2RBu3HXjHYU"
      },
      "source": [
        "# Modelling"
      ]
    },
    {
      "cell_type": "code",
      "metadata": {
        "id": "9GiaybDzjHYU"
      },
      "source": [
        "# Split the Train data into predictors and target\n",
        "\n",
        "predictor_train = train_new_df.drop(['Is_Lead','ID'],axis=1)\n",
        "predictor_test = test_new_df.drop(['ID'], axis =1)\n",
        "target_train    = train_new_df['Is_Lead']"
      ],
      "execution_count": null,
      "outputs": []
    },
    {
      "cell_type": "code",
      "metadata": {
        "id": "GIdsCzE0jHYU",
        "outputId": "3a5d3148-ff64-4638-db33-f48ca2af8dfd"
      },
      "source": [
        "predictor_test.columns"
      ],
      "execution_count": null,
      "outputs": [
        {
          "data": {
            "text/plain": [
              "Index(['Gender', 'Region_Code', 'Occupation', 'Channel_Code', 'Credit_Product',\n",
              "       'Is_Active', 'Age', 'Vintage', 'Avg_Account_Balance'],\n",
              "      dtype='object')"
            ]
          },
          "execution_count": 28,
          "metadata": {},
          "output_type": "execute_result"
        }
      ]
    },
    {
      "cell_type": "code",
      "metadata": {
        "id": "k-Ne99m8jHYU"
      },
      "source": [
        "# Scikit-Learn Pre-Processing Libraries\n",
        "from sklearn.model_selection import KFold\n",
        "# Model Evaluation Metric & Cross Validation Libraries\n",
        "from sklearn.metrics import roc_auc_score\n",
        "# Boosting Algorithm Librarie\n",
        "import xgboost\n",
        "from lightgbm import LGBMClassifier"
      ],
      "execution_count": null,
      "outputs": []
    },
    {
      "cell_type": "code",
      "metadata": {
        "id": "CyTX0LCfjHYU",
        "outputId": "ccf9fa2e-2bb8-4069-ad09-057caa80e988"
      },
      "source": [
        "#Creation ML Model,Fine Tune with MODEL Evaluation METRIC - \"ROC_AUC\" with k-FOLD Cross Validation and Predict Target \"Response\"\n",
        "kf=KFold(n_splits=10,shuffle=True)\n",
        "\n",
        "preds   = list()\n",
        "y_pred  = []\n",
        "rocauc_score = []\n",
        "\n",
        "for i,(train_idx,val_idx) in enumerate(kf.split(predictor_train)):    \n",
        "    \n",
        "    X_train, y_train = predictor_train.iloc[train_idx,:], target_train.iloc[train_idx]    \n",
        "    X_val, y_val = predictor_train.iloc[val_idx, :], target_train.iloc[val_idx]\n",
        "   \n",
        "    print('\\nFold: {}\\n'.format(i+1))\n",
        "\n",
        "    lg = LGBMClassifier(metric = 'auc', \n",
        "                       n_estimators=50000,    \n",
        "                       bagging_fraction=0.95, \n",
        "                       subsample_freq = 2, \n",
        "                       objective =\"binary\",\n",
        "                       importance_type = \"gain\",\n",
        "                       verbosity = -1,\n",
        "                       random_state=294,\n",
        "                       num_leaves = 300,\n",
        "                       boosting_type = 'gbdt',\n",
        "                       learning_rate=0.15,\n",
        "                       max_depth=4, \n",
        "                       scale_pos_weight=2,\n",
        "                       n_jobs=-1 \n",
        "                      )\n",
        "\n",
        "    lg.fit(X_train, y_train, eval_set=[(X_train, y_train),(X_val, y_val)] ,early_stopping_rounds=100 ,verbose=100)\n",
        "\n",
        "    roc_auc = roc_auc_score(y_val,lg.predict_proba(X_val)[:, 1])\n",
        "    rocauc_score.append(roc_auc)\n",
        "    preds.append(lg.predict_proba(predictor_test[predictor_test.columns])[:, 1])\n",
        "    \n",
        "y_pred_final = np.mean(preds,axis=0)    \n",
        "submission_df['Is_Lead']=y_pred_final"
      ],
      "execution_count": null,
      "outputs": [
        {
          "name": "stdout",
          "output_type": "stream",
          "text": [
            "\n",
            "Fold: 1\n",
            "\n",
            "[LightGBM] [Warning] bagging_fraction is set=0.95, subsample=1.0 will be ignored. Current value: bagging_fraction=0.95\n",
            "Training until validation scores don't improve for 100 rounds\n",
            "[100]\ttraining's auc: 0.877319\tvalid_1's auc: 0.876548\n",
            "Early stopping, best iteration is:\n",
            "[75]\ttraining's auc: 0.87623\tvalid_1's auc: 0.876752\n",
            "\n",
            "Fold: 2\n",
            "\n",
            "[LightGBM] [Warning] bagging_fraction is set=0.95, subsample=1.0 will be ignored. Current value: bagging_fraction=0.95\n",
            "Training until validation scores don't improve for 100 rounds\n",
            "[100]\ttraining's auc: 0.877793\tvalid_1's auc: 0.869773\n",
            "[200]\ttraining's auc: 0.881146\tvalid_1's auc: 0.870174\n",
            "[300]\ttraining's auc: 0.883408\tvalid_1's auc: 0.870248\n",
            "Early stopping, best iteration is:\n",
            "[281]\ttraining's auc: 0.883018\tvalid_1's auc: 0.87031\n",
            "\n",
            "Fold: 3\n",
            "\n",
            "[LightGBM] [Warning] bagging_fraction is set=0.95, subsample=1.0 will be ignored. Current value: bagging_fraction=0.95\n",
            "Training until validation scores don't improve for 100 rounds\n",
            "[100]\ttraining's auc: 0.877986\tvalid_1's auc: 0.870851\n",
            "[200]\ttraining's auc: 0.881213\tvalid_1's auc: 0.870568\n",
            "Early stopping, best iteration is:\n",
            "[112]\ttraining's auc: 0.878459\tvalid_1's auc: 0.870909\n",
            "\n",
            "Fold: 4\n",
            "\n",
            "[LightGBM] [Warning] bagging_fraction is set=0.95, subsample=1.0 will be ignored. Current value: bagging_fraction=0.95\n",
            "Training until validation scores don't improve for 100 rounds\n",
            "[100]\ttraining's auc: 0.878259\tvalid_1's auc: 0.870398\n",
            "[200]\ttraining's auc: 0.881274\tvalid_1's auc: 0.870115\n",
            "Early stopping, best iteration is:\n",
            "[142]\ttraining's auc: 0.879564\tvalid_1's auc: 0.87048\n",
            "\n",
            "Fold: 5\n",
            "\n",
            "[LightGBM] [Warning] bagging_fraction is set=0.95, subsample=1.0 will be ignored. Current value: bagging_fraction=0.95\n",
            "Training until validation scores don't improve for 100 rounds\n",
            "[100]\ttraining's auc: 0.877534\tvalid_1's auc: 0.874432\n",
            "Early stopping, best iteration is:\n",
            "[45]\ttraining's auc: 0.874738\tvalid_1's auc: 0.875\n",
            "\n",
            "Fold: 6\n",
            "\n",
            "[LightGBM] [Warning] bagging_fraction is set=0.95, subsample=1.0 will be ignored. Current value: bagging_fraction=0.95\n",
            "Training until validation scores don't improve for 100 rounds\n",
            "[100]\ttraining's auc: 0.877791\tvalid_1's auc: 0.872696\n",
            "[200]\ttraining's auc: 0.881155\tvalid_1's auc: 0.872562\n",
            "Early stopping, best iteration is:\n",
            "[161]\ttraining's auc: 0.880009\tvalid_1's auc: 0.872803\n",
            "\n",
            "Fold: 7\n",
            "\n",
            "[LightGBM] [Warning] bagging_fraction is set=0.95, subsample=1.0 will be ignored. Current value: bagging_fraction=0.95\n",
            "Training until validation scores don't improve for 100 rounds\n",
            "[100]\ttraining's auc: 0.877618\tvalid_1's auc: 0.872095\n",
            "[200]\ttraining's auc: 0.880945\tvalid_1's auc: 0.872336\n",
            "Early stopping, best iteration is:\n",
            "[103]\ttraining's auc: 0.877773\tvalid_1's auc: 0.872355\n",
            "\n",
            "Fold: 8\n",
            "\n",
            "[LightGBM] [Warning] bagging_fraction is set=0.95, subsample=1.0 will be ignored. Current value: bagging_fraction=0.95\n",
            "Training until validation scores don't improve for 100 rounds\n",
            "[100]\ttraining's auc: 0.876847\tvalid_1's auc: 0.879578\n",
            "Early stopping, best iteration is:\n",
            "[74]\ttraining's auc: 0.875863\tvalid_1's auc: 0.879784\n",
            "\n",
            "Fold: 9\n",
            "\n",
            "[LightGBM] [Warning] bagging_fraction is set=0.95, subsample=1.0 will be ignored. Current value: bagging_fraction=0.95\n",
            "Training until validation scores don't improve for 100 rounds\n",
            "[100]\ttraining's auc: 0.877233\tvalid_1's auc: 0.87721\n",
            "[200]\ttraining's auc: 0.880519\tvalid_1's auc: 0.876726\n",
            "Early stopping, best iteration is:\n",
            "[104]\ttraining's auc: 0.877366\tvalid_1's auc: 0.877309\n",
            "\n",
            "Fold: 10\n",
            "\n",
            "[LightGBM] [Warning] bagging_fraction is set=0.95, subsample=1.0 will be ignored. Current value: bagging_fraction=0.95\n",
            "Training until validation scores don't improve for 100 rounds\n",
            "[100]\ttraining's auc: 0.877578\tvalid_1's auc: 0.87395\n",
            "Early stopping, best iteration is:\n",
            "[93]\ttraining's auc: 0.877288\tvalid_1's auc: 0.874067\n"
          ]
        }
      ]
    },
    {
      "cell_type": "code",
      "metadata": {
        "id": "3SA0WphzjHYV",
        "outputId": "f9a40695-5d4a-4232-da13-2abe5fc6c158"
      },
      "source": [
        "print('ROC_AUC - CV Score: {}'.format((sum(rocauc_score)/10)),'\\n')\n",
        "print(\"Score : \",rocauc_score)"
      ],
      "execution_count": null,
      "outputs": [
        {
          "name": "stdout",
          "output_type": "stream",
          "text": [
            "ROC_AUC - CV Score: 0.8739769042600438 \n",
            "\n",
            "Score :  [0.8767520355531739, 0.8703099271318708, 0.8709087326314434, 0.8704801685358794, 0.8750004743403552, 0.87280337217303, 0.8723549123118848, 0.8797835439527077, 0.87730903287024, 0.8740668430998538]\n"
          ]
        }
      ]
    }
  ]
}